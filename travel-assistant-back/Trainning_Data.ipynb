{
  "metadata": {
    "kernelspec": {
      "name": "python",
      "display_name": "Python (Pyodide)",
      "language": "python"
    },
    "language_info": {
      "codemirror_mode": {
        "name": "python",
        "version": 3
      },
      "file_extension": ".py",
      "mimetype": "text/x-python",
      "name": "python",
      "nbconvert_exporter": "python",
      "pygments_lexer": "ipython3",
      "version": "3.8"
    }
  },
  "nbformat_minor": 4,
  "nbformat": 4,
  "cells": [
    {
      "cell_type": "code",
      "source": "import pandas as pd\nimport numpy as np\nimport joblib\nfrom sklearn.neighbors import NearestNeighbors\nimport os\nimport pandas as pd",
      "metadata": {
        "trusted": true
      },
      "outputs": [],
      "execution_count": 3
    },
    {
      "cell_type": "code",
      "source": "import pandas as pd",
      "metadata": {
        "trusted": true
      },
      "outputs": [],
      "execution_count": 4
    },
    {
      "cell_type": "code",
      "source": "dataset = pd.read_csv('tourist_places_sri_lanka.csv')",
      "metadata": {
        "trusted": true
      },
      "outputs": [],
      "execution_count": 5
    },
    {
      "cell_type": "code",
      "source": "print(os.getcwd())",
      "metadata": {
        "trusted": true
      },
      "outputs": [
        {
          "ename": "<class 'NameError'>",
          "evalue": "name 'os' is not defined",
          "traceback": [
            "\u001b[0;31m---------------------------------------------------------------------------\u001b[0m",
            "\u001b[0;31mNameError\u001b[0m                                 Traceback (most recent call last)",
            "Cell \u001b[0;32mIn[3], line 1\u001b[0m\n\u001b[0;32m----> 1\u001b[0m \u001b[38;5;28mprint\u001b[39m(\u001b[43mos\u001b[49m\u001b[38;5;241m.\u001b[39mgetcwd())\n",
            "\u001b[0;31mNameError\u001b[0m: name 'os' is not defined"
          ],
          "output_type": "error"
        }
      ],
      "execution_count": 3
    },
    {
      "cell_type": "code",
      "source": "import os",
      "metadata": {
        "trusted": true
      },
      "outputs": [],
      "execution_count": 4
    },
    {
      "cell_type": "code",
      "source": "print(os.getcwd())",
      "metadata": {
        "trusted": true
      },
      "outputs": [
        {
          "name": "stdout",
          "text": "/drive\n",
          "output_type": "stream"
        }
      ],
      "execution_count": 8
    },
    {
      "cell_type": "code",
      "source": "dataset.head()",
      "metadata": {
        "trusted": true
      },
      "outputs": [
        {
          "execution_count": 5,
          "output_type": "execute_result",
          "data": {
            "text/plain": "  Place Name  Latitude  Longitude   Cost               Categories  \\\n0    Place_1  7.591243  80.925954  14209  Nature, Beach, Wildlife   \n1    Place_2  6.890975  79.710062  12907        Adventure, Nature   \n2    Place_3  7.564333  81.675479  16741      Religious, Wildlife   \n3    Place_4  8.676660  81.508631  13833         Cultural, Nature   \n4    Place_5  9.498860  80.065566  12820                 Cultural   \n\n                                          Sub Places  \n0  Nine Arches Bridge, Little Adam's Peak, Miriss...  \n1              Yala National Park, Polonnaruwa Ruins  \n2                            Udawalawe National Park  \n3                                 Nine Arches Bridge  \n4  Mirissa Beach, Udawalawe National Park, Gregor...  ",
            "text/html": "<div>\n<style scoped>\n    .dataframe tbody tr th:only-of-type {\n        vertical-align: middle;\n    }\n\n    .dataframe tbody tr th {\n        vertical-align: top;\n    }\n\n    .dataframe thead th {\n        text-align: right;\n    }\n</style>\n<table border=\"1\" class=\"dataframe\">\n  <thead>\n    <tr style=\"text-align: right;\">\n      <th></th>\n      <th>Place Name</th>\n      <th>Latitude</th>\n      <th>Longitude</th>\n      <th>Cost</th>\n      <th>Categories</th>\n      <th>Sub Places</th>\n    </tr>\n  </thead>\n  <tbody>\n    <tr>\n      <th>0</th>\n      <td>Place_1</td>\n      <td>7.591243</td>\n      <td>80.925954</td>\n      <td>14209</td>\n      <td>Nature, Beach, Wildlife</td>\n      <td>Nine Arches Bridge, Little Adam's Peak, Miriss...</td>\n    </tr>\n    <tr>\n      <th>1</th>\n      <td>Place_2</td>\n      <td>6.890975</td>\n      <td>79.710062</td>\n      <td>12907</td>\n      <td>Adventure, Nature</td>\n      <td>Yala National Park, Polonnaruwa Ruins</td>\n    </tr>\n    <tr>\n      <th>2</th>\n      <td>Place_3</td>\n      <td>7.564333</td>\n      <td>81.675479</td>\n      <td>16741</td>\n      <td>Religious, Wildlife</td>\n      <td>Udawalawe National Park</td>\n    </tr>\n    <tr>\n      <th>3</th>\n      <td>Place_4</td>\n      <td>8.676660</td>\n      <td>81.508631</td>\n      <td>13833</td>\n      <td>Cultural, Nature</td>\n      <td>Nine Arches Bridge</td>\n    </tr>\n    <tr>\n      <th>4</th>\n      <td>Place_5</td>\n      <td>9.498860</td>\n      <td>80.065566</td>\n      <td>12820</td>\n      <td>Cultural</td>\n      <td>Mirissa Beach, Udawalawe National Park, Gregor...</td>\n    </tr>\n  </tbody>\n</table>\n</div>"
          },
          "metadata": {}
        }
      ],
      "execution_count": 5
    },
    {
      "cell_type": "code",
      "source": "dataset.shape",
      "metadata": {
        "trusted": true
      },
      "outputs": [
        {
          "execution_count": 10,
          "output_type": "execute_result",
          "data": {
            "text/plain": "(1000, 6)"
          },
          "metadata": {}
        }
      ],
      "execution_count": 10
    },
    {
      "cell_type": "code",
      "source": "dataset.info()",
      "metadata": {
        "trusted": true
      },
      "outputs": [
        {
          "name": "stdout",
          "text": "<class 'pandas.core.frame.DataFrame'>\nRangeIndex: 1000 entries, 0 to 999\nData columns (total 6 columns):\n #   Column      Non-Null Count  Dtype  \n---  ------      --------------  -----  \n 0   Place Name  1000 non-null   object \n 1   Latitude    1000 non-null   float64\n 2   Longitude   1000 non-null   float64\n 3   Cost        1000 non-null   int64  \n 4   Categories  1000 non-null   object \n 5   Sub Places  1000 non-null   object \ndtypes: float64(2), int64(1), object(3)\nmemory usage: 35.2+ KB\n",
          "output_type": "stream"
        }
      ],
      "execution_count": 6
    },
    {
      "cell_type": "code",
      "source": "# Viwe statical mesurement about the dataset\ndataset.describe()",
      "metadata": {
        "trusted": true
      },
      "outputs": [
        {
          "execution_count": 12,
          "output_type": "execute_result",
          "data": {
            "text/plain": "          Latitude    Longitude          Cost\ncount  1000.000000  1000.000000   1000.000000\nmean      7.908170    80.782749  12595.309000\nstd       1.118261     0.627788   6128.076353\nmin       5.902463    79.701349   1490.000000\n25%       6.964826    80.244666   7613.000000\n50%       7.947222    80.782348  13725.000000\n75%       8.857511    81.315535  16802.750000\nmax       9.794452    81.887096  86414.000000",
            "text/html": "<div>\n<style scoped>\n    .dataframe tbody tr th:only-of-type {\n        vertical-align: middle;\n    }\n\n    .dataframe tbody tr th {\n        vertical-align: top;\n    }\n\n    .dataframe thead th {\n        text-align: right;\n    }\n</style>\n<table border=\"1\" class=\"dataframe\">\n  <thead>\n    <tr style=\"text-align: right;\">\n      <th></th>\n      <th>Latitude</th>\n      <th>Longitude</th>\n      <th>Cost</th>\n    </tr>\n  </thead>\n  <tbody>\n    <tr>\n      <th>count</th>\n      <td>1000.000000</td>\n      <td>1000.000000</td>\n      <td>1000.000000</td>\n    </tr>\n    <tr>\n      <th>mean</th>\n      <td>7.908170</td>\n      <td>80.782749</td>\n      <td>12595.309000</td>\n    </tr>\n    <tr>\n      <th>std</th>\n      <td>1.118261</td>\n      <td>0.627788</td>\n      <td>6128.076353</td>\n    </tr>\n    <tr>\n      <th>min</th>\n      <td>5.902463</td>\n      <td>79.701349</td>\n      <td>1490.000000</td>\n    </tr>\n    <tr>\n      <th>25%</th>\n      <td>6.964826</td>\n      <td>80.244666</td>\n      <td>7613.000000</td>\n    </tr>\n    <tr>\n      <th>50%</th>\n      <td>7.947222</td>\n      <td>80.782348</td>\n      <td>13725.000000</td>\n    </tr>\n    <tr>\n      <th>75%</th>\n      <td>8.857511</td>\n      <td>81.315535</td>\n      <td>16802.750000</td>\n    </tr>\n    <tr>\n      <th>max</th>\n      <td>9.794452</td>\n      <td>81.887096</td>\n      <td>86414.000000</td>\n    </tr>\n  </tbody>\n</table>\n</div>"
          },
          "metadata": {}
        }
      ],
      "execution_count": 12
    },
    {
      "cell_type": "code",
      "source": "dataset[\"Cost\"].value_counts()",
      "metadata": {
        "trusted": true
      },
      "outputs": [
        {
          "execution_count": 13,
          "output_type": "execute_result",
          "data": {
            "text/plain": "Cost\n4000     4\n6000     4\n7000     4\n16838    3\n12729    2\n        ..\n14203    1\n12494    1\n8661     1\n9163     1\n12138    1\nName: count, Length: 954, dtype: int64"
          },
          "metadata": {}
        }
      ],
      "execution_count": 13
    },
    {
      "cell_type": "code",
      "source": "dataset[\"Categories\"].value_counts()",
      "metadata": {
        "trusted": true
      },
      "outputs": [
        {
          "execution_count": 14,
          "output_type": "execute_result",
          "data": {
            "text/plain": "Categories\nAdventure                      61\nNature                         61\nReligious                      57\nCultural                       55\nBeach                          55\n                               ..\nBeach, Religious, Cultural      1\nReligious, Nature, Wildlife     1\nCultural, Nature, Religious     1\nBeach, Adventure, Religious     1\nWildlife, Cultural, Beach       1\nName: count, Length: 152, dtype: int64"
          },
          "metadata": {}
        }
      ],
      "execution_count": 14
    },
    {
      "cell_type": "code",
      "source": "dataset[\"Longitude\"].value_counts()",
      "metadata": {
        "trusted": true
      },
      "outputs": [
        {
          "execution_count": 15,
          "output_type": "execute_result",
          "data": {
            "text/plain": "Longitude\n80.925954    1\n80.413885    1\n81.082268    1\n79.859445    1\n80.212805    1\n            ..\n81.746158    1\n80.424681    1\n81.612194    1\n80.997834    1\n81.283336    1\nName: count, Length: 1000, dtype: int64"
          },
          "metadata": {}
        }
      ],
      "execution_count": 15
    },
    {
      "cell_type": "code",
      "source": "dataset[\"Latitude\"].value_counts()",
      "metadata": {
        "trusted": true
      },
      "outputs": [
        {
          "execution_count": 16,
          "output_type": "execute_result",
          "data": {
            "text/plain": "Latitude\n7.591243    1\n8.611673    1\n6.609560    1\n7.149952    1\n6.549230    1\n           ..\n6.080355    1\n8.775533    1\n9.412752    1\n8.562904    1\n8.559834    1\nName: count, Length: 1000, dtype: int64"
          },
          "metadata": {}
        }
      ],
      "execution_count": 16
    },
    {
      "cell_type": "code",
      "source": "dataset[\"Place Name\"].value_counts()",
      "metadata": {
        "trusted": true
      },
      "outputs": [
        {
          "execution_count": 17,
          "output_type": "execute_result",
          "data": {
            "text/plain": "Place Name\nPlace_1       1\nPlace_672     1\nPlace_659     1\nPlace_660     1\nPlace_661     1\n             ..\nPlace_339     1\nPlace_340     1\nPlace_341     1\nPlace_342     1\nPlace_1000    1\nName: count, Length: 1000, dtype: int64"
          },
          "metadata": {}
        }
      ],
      "execution_count": 17
    },
    {
      "cell_type": "code",
      "source": "from sklearn.metrics import mean_squared_error, mean_absolute_error",
      "metadata": {
        "trusted": true
      },
      "outputs": [],
      "execution_count": 1
    },
    {
      "cell_type": "code",
      "source": "import joblib ",
      "metadata": {
        "trusted": true
      },
      "outputs": [],
      "execution_count": 32
    },
    {
      "cell_type": "code",
      "source": "def train_and_save_model(dataset):\n    # Calculate distance from mean latitude and longitude\n    dataset['distance'] = dataset.apply(\n        lambda row: np.sqrt(\n            (row['Latitude'] - dataset['Latitude'].mean()) ** 2 + \n            (row['Longitude'] - dataset['Longitude'].mean()) ** 2\n        ),\n        axis=1\n    )\n\n    # Train the KNN model\n    knn = NearestNeighbors(n_neighbors=5, metric='euclidean')\n    knn.fit(dataset[['distance', 'normalized_cost']])\n    \n    # Save the trained model\n    joblib.dump(knn, 'knn_model.pkl')\n    print(\"Model saved as knn_model.pkl\")\n\n# Train and save the model\ntrain_and_save_model(dataset)",
      "metadata": {
        "trusted": true
      },
      "outputs": [
        {
          "name": "stdout",
          "text": "Model saved as knn_model.pkl\n",
          "output_type": "stream"
        }
      ],
      "execution_count": 33
    },
    {
      "cell_type": "code",
      "source": "import numpy as np",
      "metadata": {
        "trusted": true
      },
      "outputs": [],
      "execution_count": 12
    },
    {
      "cell_type": "code",
      "source": "from sklearn.metrics import mean_squared_error, mean_absolute_error",
      "metadata": {
        "trusted": true
      },
      "outputs": [],
      "execution_count": 17
    },
    {
      "cell_type": "code",
      "source": "from sklearn.neighbors import NearestNeighbors",
      "metadata": {
        "trusted": true
      },
      "outputs": [],
      "execution_count": 24
    },
    {
      "cell_type": "code",
      "source": "knn_model = joblib.load('knn_model.pkl')\nprint(\"Model loaded from knn_model.pkl\")",
      "metadata": {
        "trusted": true
      },
      "outputs": [
        {
          "name": "stdout",
          "text": "Model loaded from knn_model.pkl\n",
          "output_type": "stream"
        }
      ],
      "execution_count": 34
    },
    {
      "cell_type": "code",
      "source": "print(knn_model)",
      "metadata": {
        "trusted": true
      },
      "outputs": [
        {
          "name": "stdout",
          "text": "NearestNeighbors(metric='euclidean')\n",
          "output_type": "stream"
        }
      ],
      "execution_count": 35
    },
    {
      "cell_type": "code",
      "source": "# Example user location and budget\nuser_location = [6.931, 79.990]  # Example lat, long\nbudget = 5000  # Example budget\n\n# Calculate distance for the user from all places\ndataset['distance'] = dataset.apply(\n    lambda row: np.sqrt(\n        (row['Latitude'] - user_location[0]) ** 2 + \n        (row['Longitude'] - user_location[1]) ** 2\n    ),\n    axis=1\n)\n\n# Calculate relevance based on cost and distance\ndataset['relevance'] = (\n    dataset['normalized_cost'] * (budget / 10000) +\n    dataset['distance'] * 1  # Adjust this weight as needed\n)\n\n# Filter places based on the budget and other criteria\nfiltered_data = dataset[dataset['Cost'] <= budget]\n\n# Make recommendations\nknn = NearestNeighbors(n_neighbors=5, metric='euclidean')\nknn.fit(filtered_data[['distance', 'normalized_cost']])\n_, indices = knn.kneighbors(filtered_data[['distance', 'normalized_cost']])\n\n# Get recommendations\nrecommendations = filtered_data.iloc[indices[0]].to_dict(orient='records')\nprint(recommendations)\n\n",
      "metadata": {
        "trusted": true
      },
      "outputs": [
        {
          "name": "stdout",
          "text": "[{'Place Name': 'Place_11', 'Latitude': 9.630933, 'Longitude': 80.537002, 'Cost': 2500, 'Categories': 'Nature, Religious, Beach', 'Sub Places': 'Galle Fort', 'distance': 2.7547866328434605, 'normalized_cost': 0.011892986670434742, 'relevance': 2.760733126178678}, {'Place Name': 'Place_867', 'Latitude': 9.379991, 'Longitude': 81.271309, 'Cost': 2259, 'Categories': 'Beach, Cultural, Adventure', 'Sub Places': 'Horton Plains', 'distance': 2.7639301133643053, 'normalized_cost': 0.009055155197588432, 'relevance': 2.7684576909630993}, {'Place Name': 'Place_508', 'Latitude': 9.185475, 'Longitude': 81.543291, 'Cost': 2257, 'Categories': 'Beach, Cultural, Religious', 'Sub Places': 'Mirissa Beach, Temple of the Tooth', 'distance': 2.737767421879734, 'normalized_cost': 0.009031604728934106, 'relevance': 2.742283224244201}, {'Place Name': 'Place_586', 'Latitude': 8.904433, 'Longitude': 81.88602, 'Cost': 2124, 'Categories': 'Wildlife, Adventure', 'Sub Places': 'Sigiriya Museum', 'distance': 2.736663962909773, 'normalized_cost': 0.007465498563421412, 'relevance': 2.7403967121914836}, {'Place Name': 'Place_852', 'Latitude': 9.371316, 'Longitude': 81.226624, 'Cost': 3328, 'Categories': 'Wildlife, Beach, Cultural', 'Sub Places': 'Ambewela Farm', 'distance': 2.7357596928882506, 'normalized_cost': 0.021642880693325796, 'relevance': 2.7465811332349137}]\n",
          "output_type": "stream"
        }
      ],
      "execution_count": 36
    },
    {
      "cell_type": "code",
      "source": "from sklearn.metrics import mean_squared_error, mean_absolute_error",
      "metadata": {
        "trusted": true
      },
      "outputs": [],
      "execution_count": 37
    },
    {
      "cell_type": "code",
      "source": "def train_and_save_model(df):\n    # Calculate distance from mean latitude and longitude\n    df['distance'] = df.apply(\n        lambda row: np.sqrt(\n            (row['Latitude'] - df['Latitude'].mean()) ** 2 + \n            (row['Longitude'] - df['Longitude'].mean()) ** 2\n        ),\n        axis=1\n    )\n\n    # Train the KNN model\n    knn = NearestNeighbors(n_neighbors=5, metric='euclidean')\n    knn.fit(df[['distance', 'normalized_cost']])\n\n    # Make predictions on the training data\n    distances, indices = knn.kneighbors(df[['distance', 'normalized_cost']])\n\n    # For each sample, calculate the mean cost of the nearest neighbors\n    predicted_costs = []\n    for i in range(len(df)):\n        # Get the 'Cost' values for the nearest neighbors for each sample\n        neighbor_costs = df.iloc[indices[i]]['Cost']\n        # Calculate the mean cost of the nearest neighbors\n        predicted_costs.append(neighbor_costs.mean())\n\n    # Convert predicted_costs list to a numpy array for easier calculations\n    predicted_costs = np.array(predicted_costs)\n\n    # Compute the Mean Squared Error (MSE) and Mean Absolute Error (MAE) for the training data\n    mse = mean_squared_error(df['Cost'], predicted_costs)\n    mae = mean_absolute_error(df['Cost'], predicted_costs)\n\n    print(f\"Mean Squared Error (MSE) on training data: {mse}\")\n    print(f\"Mean Absolute Error (MAE) on training data: {mae}\")\n    \n    # Calculate accuracy (percent error)\n    accuracy = 100 - (mse / df['Cost'].mean()) * 100\n    print(f\"Training accuracy: {accuracy:.2f}%\")\n\n    # Save the trained model to a specified file path\n    # file_path = 'knn_model.pkl'\n    # joblib.dump(knn, file_path)\n    print(f\"Model saved at \")\n",
      "metadata": {
        "trusted": true
      },
      "outputs": [],
      "execution_count": 23
    },
    {
      "cell_type": "code",
      "source": "train_and_save_model(dataset)",
      "metadata": {
        "trusted": true
      },
      "outputs": [
        {
          "name": "stdout",
          "text": "Mean Squared Error (MSE) on training data: 3358174.5100799995\nMean Absolute Error (MAE) on training data: 527.716\nTraining accuracy: -26562.10%\nModel saved at \n",
          "output_type": "stream"
        }
      ],
      "execution_count": 24
    },
    {
      "cell_type": "code",
      "source": "",
      "metadata": {
        "trusted": true
      },
      "outputs": [],
      "execution_count": null
    }
  ]
}